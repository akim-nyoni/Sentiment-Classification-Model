{
 "cells": [
  {
   "cell_type": "code",
   "execution_count": 4,
   "id": "38f35833-6eb8-4652-8fef-aae62841461d",
   "metadata": {
    "tags": []
   },
   "outputs": [],
   "source": [
    "import pandas as pd\n",
    "from tensorflow import keras\n",
    "from sklearn.model_selection import train_test_split\n",
    "from sklearn.preprocessing import LabelEncoder\n",
    "from tensorflow.keras.models import Sequential\n",
    "from tensorflow.keras.layers import Dense\n",
    "import matplotlib.pyplot as plt\n",
    "import seaborn as sns"
   ]
  },
  {
   "cell_type": "code",
   "execution_count": 5,
   "id": "b49bd3ea-9557-446c-ab47-0cb093df149e",
   "metadata": {
    "tags": []
   },
   "outputs": [
    {
     "data": {
      "text/html": [
       "<div>\n",
       "<style scoped>\n",
       "    .dataframe tbody tr th:only-of-type {\n",
       "        vertical-align: middle;\n",
       "    }\n",
       "\n",
       "    .dataframe tbody tr th {\n",
       "        vertical-align: top;\n",
       "    }\n",
       "\n",
       "    .dataframe thead th {\n",
       "        text-align: right;\n",
       "    }\n",
       "</style>\n",
       "<table border=\"1\" class=\"dataframe\">\n",
       "  <thead>\n",
       "    <tr style=\"text-align: right;\">\n",
       "      <th></th>\n",
       "      <th>CODE</th>\n",
       "      <th>PROVINCE</th>\n",
       "      <th>AREA</th>\n",
       "      <th>NAME OF FACILITY</th>\n",
       "      <th>ADDRESS</th>\n",
       "      <th>EMAIL</th>\n",
       "      <th>TELEPHONE</th>\n",
       "      <th>GRADE</th>\n",
       "      <th>EMPL</th>\n",
       "      <th>CAP</th>\n",
       "      <th>ROOMS</th>\n",
       "    </tr>\n",
       "  </thead>\n",
       "  <tbody>\n",
       "    <tr>\n",
       "      <th>0</th>\n",
       "      <td>AIR</td>\n",
       "      <td>NaN</td>\n",
       "      <td>NaN</td>\n",
       "      <td>NaN</td>\n",
       "      <td>NaN</td>\n",
       "      <td>NaN</td>\n",
       "      <td>NaN</td>\n",
       "      <td>NaN</td>\n",
       "      <td>NaN</td>\n",
       "      <td>NaN</td>\n",
       "      <td>NaN</td>\n",
       "    </tr>\n",
       "    <tr>\n",
       "      <th>1</th>\n",
       "      <td>AIR 0009</td>\n",
       "      <td>Mat North</td>\n",
       "      <td>Victoria Falls</td>\n",
       "      <td>Wilderness Air Zimbabwe Pvt Ltd</td>\n",
       "      <td>Ronald Brian Goatley - 366 Gibson Road – P O B...</td>\n",
       "      <td>tours@wilderness.co.zw</td>\n",
       "      <td>08328 43371/3</td>\n",
       "      <td>NaN</td>\n",
       "      <td>18</td>\n",
       "      <td>6</td>\n",
       "      <td>NaN</td>\n",
       "    </tr>\n",
       "    <tr>\n",
       "      <th>2</th>\n",
       "      <td>AIR 0010</td>\n",
       "      <td>Harare</td>\n",
       "      <td>Harare</td>\n",
       "      <td>Halsteds AviationCorporation</td>\n",
       "      <td>Mark Symthe - No 2 Mount Pleasant Road Avondal...</td>\n",
       "      <td>herbert@haczim.com</td>\n",
       "      <td>0778 491 276,0242 302 353</td>\n",
       "      <td>NaN</td>\n",
       "      <td>NaN</td>\n",
       "      <td>103</td>\n",
       "      <td>NaN</td>\n",
       "    </tr>\n",
       "    <tr>\n",
       "      <th>3</th>\n",
       "      <td>AIR 0011</td>\n",
       "      <td>Harare</td>\n",
       "      <td>Harare</td>\n",
       "      <td>Fastjet Zimbabwe Limited</td>\n",
       "      <td>Farai Mutamangira &amp; Craig John William -1st Fl...</td>\n",
       "      <td>faraichikuni@fastjet.com</td>\n",
       "      <td>09 882894</td>\n",
       "      <td>NaN</td>\n",
       "      <td>82</td>\n",
       "      <td>100</td>\n",
       "      <td>NaN</td>\n",
       "    </tr>\n",
       "    <tr>\n",
       "      <th>4</th>\n",
       "      <td>BED AND BREAKFAST ACCOMMODATION</td>\n",
       "      <td>NaN</td>\n",
       "      <td>NaN</td>\n",
       "      <td>NaN</td>\n",
       "      <td>NaN</td>\n",
       "      <td>NaN</td>\n",
       "      <td>NaN</td>\n",
       "      <td>NaN</td>\n",
       "      <td>NaN</td>\n",
       "      <td>NaN</td>\n",
       "      <td>NaN</td>\n",
       "    </tr>\n",
       "  </tbody>\n",
       "</table>\n",
       "</div>"
      ],
      "text/plain": [
       "                              CODE   PROVINCE            AREA  \\\n",
       "0                              AIR        NaN             NaN   \n",
       "1                         AIR 0009  Mat North  Victoria Falls   \n",
       "2                         AIR 0010     Harare          Harare   \n",
       "3                         AIR 0011     Harare          Harare   \n",
       "4  BED AND BREAKFAST ACCOMMODATION        NaN             NaN   \n",
       "\n",
       "                  NAME OF FACILITY  \\\n",
       "0                              NaN   \n",
       "1  Wilderness Air Zimbabwe Pvt Ltd   \n",
       "2     Halsteds AviationCorporation   \n",
       "3         Fastjet Zimbabwe Limited   \n",
       "4                              NaN   \n",
       "\n",
       "                                             ADDRESS  \\\n",
       "0                                                NaN   \n",
       "1  Ronald Brian Goatley - 366 Gibson Road – P O B...   \n",
       "2  Mark Symthe - No 2 Mount Pleasant Road Avondal...   \n",
       "3  Farai Mutamangira & Craig John William -1st Fl...   \n",
       "4                                                NaN   \n",
       "\n",
       "                      EMAIL                  TELEPHONE GRADE EMPL  CAP ROOMS  \n",
       "0                       NaN                        NaN   NaN  NaN  NaN   NaN  \n",
       "1    tours@wilderness.co.zw              08328 43371/3   NaN   18    6   NaN  \n",
       "2        herbert@haczim.com  0778 491 276,0242 302 353   NaN  NaN  103   NaN  \n",
       "3  faraichikuni@fastjet.com                  09 882894   NaN   82  100   NaN  \n",
       "4                       NaN                        NaN   NaN  NaN  NaN   NaN  "
      ]
     },
     "execution_count": 5,
     "metadata": {},
     "output_type": "execute_result"
    }
   ],
   "source": [
    "data = pd.read_csv('data.csv', header = 1)\n",
    "data.head()"
   ]
  },
  {
   "cell_type": "code",
   "execution_count": 6,
   "id": "cc34a128-72b5-495c-a8b4-7e4eb8fd3a64",
   "metadata": {
    "tags": []
   },
   "outputs": [],
   "source": [
    "data = data.dropna()  # Drop rows with any missing values\n",
    "\n",
    "data = data.drop_duplicates()  # Drop duplicate rows\n",
    "\n",
    "data = data.sort_values(['AREA', 'GRADE', 'EMPL', 'ROOMS']) \n",
    "\n",
    "data = data.reset_index(drop=True)"
   ]
  },
  {
   "cell_type": "code",
   "execution_count": 7,
   "id": "500ffb2a-0ecc-4667-97f1-826de3ef9888",
   "metadata": {
    "tags": []
   },
   "outputs": [
    {
     "data": {
      "text/html": [
       "<div>\n",
       "<style scoped>\n",
       "    .dataframe tbody tr th:only-of-type {\n",
       "        vertical-align: middle;\n",
       "    }\n",
       "\n",
       "    .dataframe tbody tr th {\n",
       "        vertical-align: top;\n",
       "    }\n",
       "\n",
       "    .dataframe thead th {\n",
       "        text-align: right;\n",
       "    }\n",
       "</style>\n",
       "<table border=\"1\" class=\"dataframe\">\n",
       "  <thead>\n",
       "    <tr style=\"text-align: right;\">\n",
       "      <th></th>\n",
       "      <th>AREA</th>\n",
       "      <th>GRADE</th>\n",
       "      <th>EMPL</th>\n",
       "      <th>ROOMS</th>\n",
       "    </tr>\n",
       "  </thead>\n",
       "  <tbody>\n",
       "    <tr>\n",
       "      <th>0</th>\n",
       "      <td>Beitbridge</td>\n",
       "      <td>Comfort</td>\n",
       "      <td>7</td>\n",
       "      <td>16</td>\n",
       "    </tr>\n",
       "    <tr>\n",
       "      <th>1</th>\n",
       "      <td>Beitbridge</td>\n",
       "      <td>Luxury</td>\n",
       "      <td>24</td>\n",
       "      <td>22</td>\n",
       "    </tr>\n",
       "    <tr>\n",
       "      <th>2</th>\n",
       "      <td>Beitbridge</td>\n",
       "      <td>No Star Rating</td>\n",
       "      <td>48</td>\n",
       "      <td>35</td>\n",
       "    </tr>\n",
       "    <tr>\n",
       "      <th>3</th>\n",
       "      <td>Beitbridge</td>\n",
       "      <td>No Star Rating</td>\n",
       "      <td>6</td>\n",
       "      <td>24</td>\n",
       "    </tr>\n",
       "    <tr>\n",
       "      <th>4</th>\n",
       "      <td>Beitbridge</td>\n",
       "      <td>Standard</td>\n",
       "      <td>10</td>\n",
       "      <td>20</td>\n",
       "    </tr>\n",
       "  </tbody>\n",
       "</table>\n",
       "</div>"
      ],
      "text/plain": [
       "         AREA           GRADE EMPL ROOMS\n",
       "0  Beitbridge        Comfort     7    16\n",
       "1  Beitbridge          Luxury   24    22\n",
       "2  Beitbridge  No Star Rating   48    35\n",
       "3  Beitbridge  No Star Rating    6    24\n",
       "4  Beitbridge        Standard   10    20"
      ]
     },
     "execution_count": 7,
     "metadata": {},
     "output_type": "execute_result"
    }
   ],
   "source": [
    "selected_columns = ['AREA', 'GRADE', 'EMPL', 'ROOMS']\n",
    "data = data[selected_columns]\n",
    "data.head()"
   ]
  },
  {
   "cell_type": "code",
   "execution_count": 8,
   "id": "f6aba5b4-f1a8-416d-a85e-be70e20537b8",
   "metadata": {
    "tags": []
   },
   "outputs": [],
   "source": [
    "sentiment_categories = {\n",
    "    'Positive': ['5 Star', '4 Star', '3 Star', 'Five Star', 'Four Star', 'Three Star', 'Luxury', 'Comfort', 'Comfort 3 str'],\n",
    "    'Neutral': ['Standard', 'Not Yet Graded', 'No Rating', 'Not yet Graded'],\n",
    "    'Negative': ['No Star', '1 Star','2 Star','No Star Rating', 'One Star', 'Two Star', 'Standard (Two Star)', 'No Star', 'Standard(2 Star', 'Two Star Standard']\n",
    "}"
   ]
  },
  {
   "cell_type": "code",
   "execution_count": 9,
   "id": "053a8a9d-3b0c-41fe-bb7f-7d0640c72190",
   "metadata": {
    "tags": []
   },
   "outputs": [],
   "source": [
    "data['SENTIMENT'] = data['GRADE'].apply(lambda x: next((k for k, v in sentiment_categories.items() if x in v), None))"
   ]
  },
  {
   "cell_type": "code",
   "execution_count": 10,
   "id": "a937d07e-5f0b-4220-b1a5-c00ba889b513",
   "metadata": {
    "tags": []
   },
   "outputs": [],
   "source": [
    "label_encoder = LabelEncoder()\n",
    "data['SENTIMENT_CODE'] = label_encoder.fit_transform(data['SENTIMENT'])"
   ]
  },
  {
   "cell_type": "code",
   "execution_count": 11,
   "id": "523bfe97-5bbd-4cc6-85d8-187b3ad5a096",
   "metadata": {
    "tags": []
   },
   "outputs": [
    {
     "data": {
      "image/png": "[encoded data removed]",
      "text/plain": [
       "<Figure size 1000x600 with 1 Axes>"
      ]
     },
     "metadata": {},
     "output_type": "display_data"
    }
   ],
   "source": [
    "# Data visualization\n",
    "plt.figure(figsize=(10, 6))\n",
    "sns.countplot(x='SENTIMENT', data=data)\n",
    "plt.title('Sentiment Distribution')\n",
    "plt.xlabel('Sentiment')\n",
    "plt.ylabel('Count')\n",
    "plt.show()"
   ]
  },
  {
   "cell_type": "code",
   "execution_count": 12,
   "id": "b4818f19-be96-4ac7-8051-d4e7f594f178",
   "metadata": {
    "tags": []
   },
   "outputs": [
    {
     "name": "stderr",
     "output_type": "stream",
     "text": [
      "/tmp/ipykernel_19720/284139487.py:8: SettingWithCopyWarning: \n",
      "A value is trying to be set on a copy of a slice from a DataFrame.\n",
      "Try using .loc[row_indexer,col_indexer] = value instead\n",
      "\n",
      "See the caveats in the documentation: https://pandas.pydata.org/pandas-docs/stable/user_guide/indexing.html#returning-a-view-versus-a-copy\n",
      "  data_subset[['EMPL', 'ROOMS']] = data_subset[['EMPL', 'ROOMS']].fillna(np.nan)\n"
     ]
    },
    {
     "data": {
      "image/png": "[encoded data removed]",
      "text/plain": [
       "<Figure size 1000x800 with 2 Axes>"
      ]
     },
     "metadata": {},
     "output_type": "display_data"
    }
   ],
   "source": [
    "# Correlation analysis\n",
    "import numpy as np\n",
    "\n",
    "data_subset = data[pd.to_numeric(data['EMPL'], errors='coerce').notnull() & pd.to_numeric(data['ROOMS'], errors='coerce').notnull()]\n",
    "\n",
    "correlation_matrix = data_subset[['EMPL', 'ROOMS']].corr()\n",
    "\n",
    "data_subset[['EMPL', 'ROOMS']] = data_subset[['EMPL', 'ROOMS']].fillna(np.nan)\n",
    "\n",
    "plt.figure(figsize=(10, 8))\n",
    "sns.heatmap(correlation_matrix, annot=True, cmap='coolwarm')\n",
    "plt.title('Correlation Matrix')\n",
    "plt.show()"
   ]
  },
  {
   "cell_type": "code",
   "execution_count": 13,
   "id": "fcb3bba8-f84d-4bdb-a344-0fb6bf7f7272",
   "metadata": {
    "tags": []
   },
   "outputs": [
    {
     "data": {
      "text/html": [
       "<div>\n",
       "<style scoped>\n",
       "    .dataframe tbody tr th:only-of-type {\n",
       "        vertical-align: middle;\n",
       "    }\n",
       "\n",
       "    .dataframe tbody tr th {\n",
       "        vertical-align: top;\n",
       "    }\n",
       "\n",
       "    .dataframe thead th {\n",
       "        text-align: right;\n",
       "    }\n",
       "</style>\n",
       "<table border=\"1\" class=\"dataframe\">\n",
       "  <thead>\n",
       "    <tr style=\"text-align: right;\">\n",
       "      <th></th>\n",
       "      <th>AREA</th>\n",
       "      <th>GRADE</th>\n",
       "      <th>EMPL</th>\n",
       "      <th>ROOMS</th>\n",
       "      <th>SENTIMENT</th>\n",
       "      <th>SENTIMENT_CODE</th>\n",
       "    </tr>\n",
       "  </thead>\n",
       "  <tbody>\n",
       "    <tr>\n",
       "      <th>0</th>\n",
       "      <td>Beitbridge</td>\n",
       "      <td>Comfort</td>\n",
       "      <td>7</td>\n",
       "      <td>16</td>\n",
       "      <td>None</td>\n",
       "      <td>3</td>\n",
       "    </tr>\n",
       "    <tr>\n",
       "      <th>1</th>\n",
       "      <td>Beitbridge</td>\n",
       "      <td>Luxury</td>\n",
       "      <td>24</td>\n",
       "      <td>22</td>\n",
       "      <td>Positive</td>\n",
       "      <td>2</td>\n",
       "    </tr>\n",
       "    <tr>\n",
       "      <th>2</th>\n",
       "      <td>Beitbridge</td>\n",
       "      <td>No Star Rating</td>\n",
       "      <td>48</td>\n",
       "      <td>35</td>\n",
       "      <td>Negative</td>\n",
       "      <td>0</td>\n",
       "    </tr>\n",
       "    <tr>\n",
       "      <th>3</th>\n",
       "      <td>Beitbridge</td>\n",
       "      <td>No Star Rating</td>\n",
       "      <td>6</td>\n",
       "      <td>24</td>\n",
       "      <td>Negative</td>\n",
       "      <td>0</td>\n",
       "    </tr>\n",
       "    <tr>\n",
       "      <th>4</th>\n",
       "      <td>Beitbridge</td>\n",
       "      <td>Standard</td>\n",
       "      <td>10</td>\n",
       "      <td>20</td>\n",
       "      <td>Neutral</td>\n",
       "      <td>1</td>\n",
       "    </tr>\n",
       "    <tr>\n",
       "      <th>...</th>\n",
       "      <td>...</td>\n",
       "      <td>...</td>\n",
       "      <td>...</td>\n",
       "      <td>...</td>\n",
       "      <td>...</td>\n",
       "      <td>...</td>\n",
       "    </tr>\n",
       "    <tr>\n",
       "      <th>234</th>\n",
       "      <td>Victoria Falls</td>\n",
       "      <td>Standard</td>\n",
       "      <td>21</td>\n",
       "      <td>12</td>\n",
       "      <td>Neutral</td>\n",
       "      <td>1</td>\n",
       "    </tr>\n",
       "    <tr>\n",
       "      <th>235</th>\n",
       "      <td>Victoria Falls</td>\n",
       "      <td>Standard</td>\n",
       "      <td>36</td>\n",
       "      <td>5</td>\n",
       "      <td>Neutral</td>\n",
       "      <td>1</td>\n",
       "    </tr>\n",
       "    <tr>\n",
       "      <th>236</th>\n",
       "      <td>Victoria Falls</td>\n",
       "      <td>Standard</td>\n",
       "      <td>4</td>\n",
       "      <td>12</td>\n",
       "      <td>Neutral</td>\n",
       "      <td>1</td>\n",
       "    </tr>\n",
       "    <tr>\n",
       "      <th>237</th>\n",
       "      <td>Victoria Falls</td>\n",
       "      <td>Standard</td>\n",
       "      <td>4</td>\n",
       "      <td>4</td>\n",
       "      <td>Neutral</td>\n",
       "      <td>1</td>\n",
       "    </tr>\n",
       "    <tr>\n",
       "      <th>238</th>\n",
       "      <td>Victoria Falls</td>\n",
       "      <td>Three Star</td>\n",
       "      <td>45</td>\n",
       "      <td>50</td>\n",
       "      <td>Positive</td>\n",
       "      <td>2</td>\n",
       "    </tr>\n",
       "  </tbody>\n",
       "</table>\n",
       "<p>239 rows × 6 columns</p>\n",
       "</div>"
      ],
      "text/plain": [
       "                AREA           GRADE EMPL ROOMS SENTIMENT  SENTIMENT_CODE\n",
       "0         Beitbridge        Comfort     7    16      None               3\n",
       "1         Beitbridge          Luxury   24    22  Positive               2\n",
       "2         Beitbridge  No Star Rating   48    35  Negative               0\n",
       "3         Beitbridge  No Star Rating    6    24  Negative               0\n",
       "4         Beitbridge        Standard   10    20   Neutral               1\n",
       "..               ...             ...  ...   ...       ...             ...\n",
       "234  Victoria Falls         Standard   21    12   Neutral               1\n",
       "235  Victoria Falls         Standard   36     5   Neutral               1\n",
       "236  Victoria Falls         Standard    4    12   Neutral               1\n",
       "237  Victoria Falls         Standard    4     4   Neutral               1\n",
       "238  Victoria Falls       Three Star   45    50  Positive               2\n",
       "\n",
       "[239 rows x 6 columns]"
      ]
     },
     "execution_count": 13,
     "metadata": {},
     "output_type": "execute_result"
    }
   ],
   "source": [
    "data"
   ]
  },
  {
   "cell_type": "code",
   "execution_count": 14,
   "id": "21be38f7-718a-4f42-a27e-b9e0ba062662",
   "metadata": {
    "tags": []
   },
   "outputs": [],
   "source": [
    "features = data[['AREA', 'GRADE', 'EMPL', 'ROOMS']]\n",
    "target = data['SENTIMENT_CODE']"
   ]
  },
  {
   "cell_type": "code",
   "execution_count": 15,
   "id": "922a06ed-28d2-4d99-a79e-ce6538b24091",
   "metadata": {
    "tags": []
   },
   "outputs": [],
   "source": [
    "label_encoder = LabelEncoder()\n",
    "target = label_encoder.fit_transform(target)\n",
    "\n",
    "features_encoded = pd.get_dummies(features)"
   ]
  },
  {
   "cell_type": "code",
   "execution_count": 16,
   "id": "6ab729b0-8069-4673-81b4-1e0132d130a3",
   "metadata": {
    "tags": []
   },
   "outputs": [],
   "source": [
    "X_train, X_test, y_train, y_test = train_test_split(features_encoded, target, test_size=0.2, random_state=42)"
   ]
  },
  {
   "cell_type": "code",
   "execution_count": 17,
   "id": "ba3ffd8c-ab86-439a-a976-9218379e87ab",
   "metadata": {
    "tags": []
   },
   "outputs": [
    {
     "name": "stderr",
     "output_type": "stream",
     "text": [
      "/home/akim/anaconda3/lib/python3.11/site-packages/keras/src/layers/core/dense.py:88: UserWarning: Do not pass an `input_shape`/`input_dim` argument to a layer. When using Sequential models, prefer using an `Input(shape)` object as the first layer in the model instead.\n",
      "  super().__init__(activity_regularizer=activity_regularizer, **kwargs)\n"
     ]
    }
   ],
   "source": [
    "model = Sequential()\n",
    "model.add(Dense(128, activation='relu', input_shape=(X_train.shape[1],)))\n",
    "model.add(Dense(64, activation='relu'))\n",
    "model.add(Dense(4, activation='softmax'))"
   ]
  },
  {
   "cell_type": "code",
   "execution_count": 18,
   "id": "d89525c3-a67f-4516-8e81-16c953678a2c",
   "metadata": {
    "tags": []
   },
   "outputs": [],
   "source": [
    "model.compile(loss='sparse_categorical_crossentropy', optimizer='adam', metrics=['accuracy'])"
   ]
  },
  {
   "cell_type": "code",
   "execution_count": 19,
   "id": "bec66719-2db7-44f5-ab14-a8a91c0cddc7",
   "metadata": {
    "tags": []
   },
   "outputs": [
    {
     "name": "stdout",
     "output_type": "stream",
     "text": [
      "Epoch 1/10\n",
      "\u001b[1m6/6\u001b[0m \u001b[32m━━━━━━━━━━━━━━━━━━━━\u001b[0m\u001b[37m\u001b[0m \u001b[1m1s\u001b[0m 28ms/step - accuracy: 0.3954 - loss: 1.3477 - val_accuracy: 0.6042 - val_loss: 1.2700\n",
      "Epoch 2/10\n",
      "\u001b[1m6/6\u001b[0m \u001b[32m━━━━━━━━━━━━━━━━━━━━\u001b[0m\u001b[37m\u001b[0m \u001b[1m0s\u001b[0m 7ms/step - accuracy: 0.6007 - loss: 1.2104 - val_accuracy: 0.5625 - val_loss: 1.1713\n",
      "Epoch 3/10\n",
      "\u001b[1m6/6\u001b[0m \u001b[32m━━━━━━━━━━━━━━━━━━━━\u001b[0m\u001b[37m\u001b[0m \u001b[1m0s\u001b[0m 6ms/step - accuracy: 0.5422 - loss: 1.1178 - val_accuracy: 0.5625 - val_loss: 1.0775\n",
      "Epoch 4/10\n",
      "\u001b[1m6/6\u001b[0m \u001b[32m━━━━━━━━━━━━━━━━━━━━\u001b[0m\u001b[37m\u001b[0m \u001b[1m0s\u001b[0m 6ms/step - accuracy: 0.6142 - loss: 0.9921 - val_accuracy: 0.6250 - val_loss: 0.9870\n",
      "Epoch 5/10\n",
      "\u001b[1m6/6\u001b[0m \u001b[32m━━━━━━━━━━━━━━━━━━━━\u001b[0m\u001b[37m\u001b[0m \u001b[1m0s\u001b[0m 6ms/step - accuracy: 0.6274 - loss: 0.9207 - val_accuracy: 0.7292 - val_loss: 0.8961\n",
      "Epoch 6/10\n",
      "\u001b[1m6/6\u001b[0m \u001b[32m━━━━━━━━━━━━━━━━━━━━\u001b[0m\u001b[37m\u001b[0m \u001b[1m0s\u001b[0m 6ms/step - accuracy: 0.6873 - loss: 0.8257 - val_accuracy: 0.7708 - val_loss: 0.8041\n",
      "Epoch 7/10\n",
      "\u001b[1m6/6\u001b[0m \u001b[32m━━━━━━━━━━━━━━━━━━━━\u001b[0m\u001b[37m\u001b[0m \u001b[1m0s\u001b[0m 7ms/step - accuracy: 0.7813 - loss: 0.6410 - val_accuracy: 0.7708 - val_loss: 0.7129\n",
      "Epoch 8/10\n",
      "\u001b[1m6/6\u001b[0m \u001b[32m━━━━━━━━━━━━━━━━━━━━\u001b[0m\u001b[37m\u001b[0m \u001b[1m0s\u001b[0m 6ms/step - accuracy: 0.7920 - loss: 0.5735 - val_accuracy: 0.7708 - val_loss: 0.6276\n",
      "Epoch 9/10\n",
      "\u001b[1m6/6\u001b[0m \u001b[32m━━━━━━━━━━━━━━━━━━━━\u001b[0m\u001b[37m\u001b[0m \u001b[1m0s\u001b[0m 6ms/step - accuracy: 0.8493 - loss: 0.4703 - val_accuracy: 0.7708 - val_loss: 0.5499\n",
      "Epoch 10/10\n",
      "\u001b[1m6/6\u001b[0m \u001b[32m━━━━━━━━━━━━━━━━━━━━\u001b[0m\u001b[37m\u001b[0m \u001b[1m0s\u001b[0m 6ms/step - accuracy: 0.9259 - loss: 0.3517 - val_accuracy: 0.8333 - val_loss: 0.4806\n"
     ]
    }
   ],
   "source": [
    "history = model.fit(X_train, y_train, epochs=10, batch_size=32, validation_data=(X_test, y_test))"
   ]
  },
  {
   "cell_type": "code",
   "execution_count": 20,
   "id": "3c5726df-e6a1-4b86-a93f-75f50e750922",
   "metadata": {
    "tags": []
   },
   "outputs": [
    {
     "data": {
      "image/png": "[encoded data removed]",
      "text/plain": [
       "<Figure size 640x480 with 1 Axes>"
      ]
     },
     "metadata": {},
     "output_type": "display_data"
    }
   ],
   "source": [
    "# Plot the training and validation accuracy over epochs\n",
    "plt.plot(history.history['accuracy'])\n",
    "plt.plot(history.history['val_accuracy'])\n",
    "plt.title('Model Accuracy')\n",
    "plt.xlabel('Epoch')\n",
    "plt.ylabel('Accuracy')\n",
    "plt.legend(['Train', 'Validation'], loc='upper left')\n",
    "plt.show()"
   ]
  },
  {
   "cell_type": "code",
   "execution_count": 21,
   "id": "44bb6328-f0ea-4900-9227-ed18bb8a32fa",
   "metadata": {
    "tags": []
   },
   "outputs": [
    {
     "data": {
      "image/png": "[encoded data removed]",
      "text/plain": [
       "<Figure size 640x480 with 1 Axes>"
      ]
     },
     "metadata": {},
     "output_type": "display_data"
    }
   ],
   "source": [
    "# Plot the training and validation loss over epochs\n",
    "plt.plot(history.history['loss'])\n",
    "plt.plot(history.history['val_loss'])\n",
    "plt.title('Model Loss')\n",
    "plt.xlabel('Epoch')\n",
    "plt.ylabel('Loss')\n",
    "plt.legend(['Train', 'Validation'], loc='upper left')\n",
    "plt.show()"
   ]
  },
  {
   "cell_type": "code",
   "execution_count": null,
   "id": "dc76fe5c-15e7-4285-8862-98d62968041a",
   "metadata": {},
   "outputs": [],
   "source": []
  }
 ],
 "metadata": {
  "kernelspec": {
   "display_name": "Python 3 (ipykernel)",
   "language": "python",
   "name": "python3"
  },
  "language_info": {
   "codemirror_mode": {
    "name": "ipython",
    "version": 3
   },
   "file_extension": ".py",
   "mimetype": "text/x-python",
   "name": "python",
   "nbconvert_exporter": "python",
   "pygments_lexer": "ipython3",
   "version": "3.11.5"
  }
 },
 "nbformat": 4,
 "nbformat_minor": 5
}
